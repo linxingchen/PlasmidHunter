{
  "cells": [
    {
      "cell_type": "markdown",
      "metadata": {
        "id": "view-in-github",
        "colab_type": "text"
      },
      "source": [
        "<a href=\"https://colab.research.google.com/github/tianrenmaogithub/PlasmidHunter/blob/main/PlasmidHunter.ipynb\" target=\"_parent\"><img src=\"https://colab.research.google.com/assets/colab-badge.svg\" alt=\"Open In Colab\"/></a>"
      ]
    },
    {
      "cell_type": "markdown",
      "metadata": {
        "id": "0P59EkBBTSyb"
      },
      "source": [
        "\n",
        "\n",
        "\n",
        "<img src='https://github.com/tianrenmaogithub/PlasmidHunter/raw/main/logo1.png' width=150>\n",
        "\n",
        "Welcome to PlasmidHunter!\n",
        "<br>presented by Institute of Food Safety and Health, Illinois Institute of Technology\n",
        "# 1. Installing dependencies\n",
        "Please click the play button on the left to install dependencies. It is OK if it warns that \"Your session crashed for an unknown reason\", because it restarted the kernel when installing Anaconda. You can ignore it and continue to the next step."
      ]
    },
    {
      "cell_type": "code",
      "execution_count": null,
      "metadata": {
        "id": "PeLhZuV4USzg"
      },
      "outputs": [],
      "source": [
        "! pip install -q condacolab\n",
        "import condacolab\n",
        "condacolab.install()\n",
        "! conda install pandas\n",
        "! conda install -c anaconda scikit-learn==1.0.2\n",
        "! conda install -c bioconda biopython diamond prodigal\n"
      ]
    },
    {
      "cell_type": "markdown",
      "source": [
        "# 2. Download PlasmidHunter\n",
        "Please click the play button on the left to download PlasmidHunter from GitHub."
      ],
      "metadata": {
        "id": "gE6QY7LsIOUX"
      }
    },
    {
      "cell_type": "code",
      "execution_count": null,
      "metadata": {
        "id": "KCdnfMoWiGQM"
      },
      "outputs": [],
      "source": [
        "! rm -rf PlasmidHunter*\n",
        "! wget https://github.com/tianrenmaogithub/PlasmidHunter/raw/main/PlasmidHunter_1.1.zip\n",
        "! unzip PlasmidHunter_1.1.zip\n"
      ]
    },
    {
      "cell_type": "markdown",
      "metadata": {
        "id": "m7X2sfAMUmbY"
      },
      "source": [
        "# 3. Upload input fasta file and wait a while\n",
        "Please upload your input fasta file. Note that contigs < 5 Kbp will not be included in the prediction.\n",
        "After running, an output file \"prediction.tsv\" will be downloaded.\n",
        "Please cite us if you find it helpful. Thank you!"
      ]
    },
    {
      "cell_type": "code",
      "execution_count": null,
      "metadata": {
        "id": "gL4ZmAuN7jlF"
      },
      "outputs": [],
      "source": [
        "from google.colab import files\n",
        "upload = files.upload()\n",
        "infile = list(upload.keys())[0]\n",
        "! python PlasmidHunter_1.1/bin/PlasmidHunter.py -i $infile -c 2; rm -rf $infile\n",
        "files.download('plasmid_prediction/predictions.tsv')"
      ]
    }
  ],
  "metadata": {
    "colab": {
      "provenance": [],
      "toc_visible": true,
      "authorship_tag": "ABX9TyOI7/7opA4jIlkxhcREMYIg",
      "include_colab_link": true
    },
    "kernelspec": {
      "display_name": "Python 3",
      "name": "python3"
    },
    "language_info": {
      "name": "python"
    }
  },
  "nbformat": 4,
  "nbformat_minor": 0
}