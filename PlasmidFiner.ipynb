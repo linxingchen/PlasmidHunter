{
  "cells": [
    {
      "cell_type": "markdown",
      "metadata": {
        "id": "view-in-github",
        "colab_type": "text"
      },
      "source": [
        "<a href=\"https://colab.research.google.com/github/tianrenmaogithub/PlasmidFinder/blob/main/PlasmidFiner.ipynb\" target=\"_parent\"><img src=\"https://colab.research.google.com/assets/colab-badge.svg\" alt=\"Open In Colab\"/></a>"
      ]
    },
    {
      "cell_type": "markdown",
      "source": [
        "Welcome to PlasmidFinder!\n",
        "# 1. Installing dependencies\n",
        "Please click the play button on the left to install dependencies."
      ],
      "metadata": {
        "id": "0P59EkBBTSyb"
      }
    },
    {
      "cell_type": "code",
      "source": [
        "! pip install -q condacolab\n",
        "import condacolab\n",
        "condacolab.install()\n",
        "! conda install pandas\n",
        "! conda install biopython -c bioconda\n",
        "! conda install -c bioconda diamond\n",
        "! conda install -c bioconda prodigal\n"
      ],
      "metadata": {
        "colab": {
          "base_uri": "https://localhost:8080/"
        },
        "id": "PeLhZuV4USzg",
        "outputId": "ab11044c-9db5-40c5-9bd0-9ba11d5e826f"
      },
      "execution_count": 41,
      "outputs": [
        {
          "output_type": "stream",
          "name": "stdout",
          "text": [
            "⏬ Downloading https://github.com/jaimergp/miniforge/releases/latest/download/Mambaforge-colab-Linux-x86_64.sh...\n",
            "📦 Installing...\n",
            "📌 Adjusting configuration...\n",
            "🩹 Patching environment...\n",
            "⏲ Done in 0:00:37\n",
            "🔁 Restarting kernel...\n"
          ]
        }
      ]
    },
    {
      "cell_type": "code",
      "source": [
        "%cd PlasmidFinder_1.0/example_data\n"
      ],
      "metadata": {
        "colab": {
          "base_uri": "https://localhost:8080/"
        },
        "id": "SkSHMfI6lU-H",
        "outputId": "c9472854-efc0-4d87-ed30-d8db2ebfb279"
      },
      "execution_count": 32,
      "outputs": [
        {
          "output_type": "stream",
          "name": "stdout",
          "text": [
            "Collecting package metadata (current_repodata.json): - \b\b\\ \b\b| \b\b/ \b\b- \b\b\\ \b\b| \b\b/ \b\b- \b\b\\ \b\b| \b\b/ \b\b- \b\b\\ \b\b| \b\b/ \b\b- \b\b\\ \b\b| \b\b/ \b\b- \b\b\\ \b\b| \b\b/ \b\b- \b\b\\ \b\b| \b\b/ \b\b- \b\b\\ \b\b| \b\b/ \b\b- \b\b\\ \b\b| \b\b/ \b\b- \b\b\\ \b\b| \b\b/ \b\b- \b\b\\ \b\b| \b\b/ \b\b- \b\b\\ \b\b| \b\bdone\n",
            "Solving environment: - \b\b\\ \b\b| \b\b/ \b\b- \b\b\\ \b\b| \b\b/ \b\b- \b\b\\ \b\b| \b\b/ \b\b- \b\b\\ \b\b| \b\b/ \b\b- \b\b\\ \b\b| \b\b/ \b\b- \b\b\\ \b\b| \b\b/ \b\b- \b\b\\ \b\bdone\n",
            "\n",
            "## Package Plan ##\n",
            "\n",
            "  environment location: /usr/local\n",
            "\n",
            "  added / updated specs:\n",
            "    - biopython\n",
            "\n",
            "\n",
            "The following packages will be downloaded:\n",
            "\n",
            "    package                    |            build\n",
            "    ---------------------------|-----------------\n",
            "    biopython-1.79             |   py37h540881e_2         2.6 MB  conda-forge\n",
            "    ------------------------------------------------------------\n",
            "                                           Total:         2.6 MB\n",
            "\n",
            "The following NEW packages will be INSTALLED:\n",
            "\n",
            "  biopython          conda-forge/linux-64::biopython-1.79-py37h540881e_2\n",
            "\n",
            "\n",
            "\n",
            "Downloading and Extracting Packages\n",
            "biopython-1.79       | 2.6 MB    | : 100% 1.0/1 [00:01<00:00,  1.28s/it]\n",
            "Preparing transaction: / \b\bdone\n",
            "Verifying transaction: \\ \b\bdone\n",
            "Executing transaction: / \b\b- \b\bdone\n",
            "Retrieving notices: ...working... done\n"
          ]
        }
      ]
    },
    {
      "cell_type": "code",
      "source": [
        "! ls -lh \n",
        "! python ../bin/PlasmidFinder.py -i test_data_20kbp_2398seqs.fasta\n",
        "\n"
      ],
      "metadata": {
        "colab": {
          "base_uri": "https://localhost:8080/"
        },
        "id": "KCdnfMoWiGQM",
        "outputId": "e9f9c351-4f6a-4e82-c2fc-351a9b3c3b10"
      },
      "execution_count": 35,
      "outputs": [
        {
          "output_type": "stream",
          "name": "stdout",
          "text": [
            "total 94M\n",
            "drwxr-xr-x 3 root root 4.0K Aug 30 02:40 plasmid_prediction\n",
            "-rw-r--r-- 1 root root  94M Jul 26 15:15 test_data_20kbp_2398seqs.fasta\n",
            "Filtering contigs < 5 Kbp out ...\n",
            "Now splitting input fasta file ...\n",
            "Now predicting protein sequences using Prodigal ...\n",
            "+ prodigal -a plasmid_prediction/input.fasta_temp/7.fasta.faa -o plasmid_prediction/input.fasta_temp/7.fasta.out -i plasmid_prediction/input.fasta_temp/7.fasta -p meta -q\n",
            "+ prodigal -a plasmid_prediction/input.fasta_temp/6.fasta.faa -o plasmid_prediction/input.fasta_temp/6.fasta.out -i plasmid_prediction/input.fasta_temp/6.fasta -p meta -q\n",
            "+ prodigal -a plasmid_prediction/input.fasta_temp/5.fasta.faa -o plasmid_prediction/input.fasta_temp/5.fasta.out -i plasmid_prediction/input.fasta_temp/5.fasta -p meta -q\n",
            "+ prodigal -a plasmid_prediction/input.fasta_temp/0.fasta.faa -o plasmid_prediction/input.fasta_temp/0.fasta.out -i plasmid_prediction/input.fasta_temp/0.fasta -p meta -q\n",
            "+ prodigal -a plasmid_prediction/input.fasta_temp/2.fasta.faa -o plasmid_prediction/input.fasta_temp/2.fasta.out -i plasmid_prediction/input.fasta_temp/2.fasta -p meta -q\n",
            "+ prodigal -a plasmid_prediction/input.fasta_temp/3.fasta.faa -o plasmid_prediction/input.fasta_temp/3.fasta.out -i plasmid_prediction/input.fasta_temp/3.fasta -p meta -q\n",
            "+ prodigal -a plasmid_prediction/input.fasta_temp/1.fasta.faa -o plasmid_prediction/input.fasta_temp/1.fasta.out+  -i plasmid_prediction/input.fasta_temp/1.fasta -p meta -q\n",
            "prodigal -a plasmid_prediction/input.fasta_temp/8.fasta.faa -o plasmid_prediction/input.fasta_temp/8.fasta.out -i plasmid_prediction/input.fasta_temp/8.fasta -p meta -q\n",
            "+ prodigal -a plasmid_prediction/input.fasta_temp/9.fasta.faa -o plasmid_prediction/input.fasta_temp/9.fasta.out -i plasmid_prediction/input.fasta_temp/9.fasta -p meta -q\n",
            "+ prodigal -a plasmid_prediction/input.fasta_temp/4.fasta.faa -o plasmid_prediction/input.fasta_temp/4.fasta.out -i plasmid_prediction/input.fasta_temp/4.fasta -p meta -q\n",
            "\n",
            "Prodigal prediction for 9.fasta completed.\n",
            "\n",
            "\n",
            "Prodigal prediction for 6.fasta completed.\n",
            "\n",
            "\n",
            "Prodigal prediction for 0.fasta completed.\n",
            "\n",
            "\n",
            "Prodigal prediction for 7.fasta completed.\n",
            "\n",
            "\n",
            "Prodigal prediction for 8.fasta completed.\n",
            "\n",
            "\n",
            "Prodigal prediction for 4.fasta completed.\n",
            "\n",
            "\n",
            "Prodigal prediction for 5.fasta completed.\n",
            "\n",
            "\n",
            "Prodigal prediction for 1.fasta completed.\n",
            "\n",
            "\n",
            "Prodigal prediction for 3.fasta completed.\n",
            "\n",
            "\n",
            "Prodigal prediction for 2.fasta completed.\n",
            "\n",
            "Now aligning protein sequences against database using Diamond ...\n",
            "+ diamond blastp --query plasmid_prediction/input.fasta_temp/proteins.faa --max-target-seqs 1 --max-hsps 1 --evalue 1e-5 --id 40 --query-cover 80 --db /content/PlasmidFinder_1.0/bin/../lib/database/database.dmnd --out plasmid_prediction/input.fasta_temp/proteins.faa.daa --outfmt 6 --threads 10\n",
            "diamond v2.0.15.153 (C) Max Planck Society for the Advancement of Science\n",
            "Documentation, support and updates available at http://www.diamondsearch.org\n",
            "Please cite: http://dx.doi.org/10.1038/s41592-021-01101-x Nature Methods (2021)\n",
            "\n",
            "#CPU threads: 10\n",
            "Scoring parameters: (Matrix=BLOSUM62 Lambda=0.267 K=0.041 Penalties=11/1)\n",
            "Temporary directory: plasmid_prediction/input.fasta_temp\n",
            "#Target sequences to report alignments for: 1\n",
            "Opening the database...  [0.131s]\n",
            "Database: /content/PlasmidFinder_1.0/bin/../lib/database/database.dmnd (type: Diamond database, sequences: 959810, letters: 319061215)\n",
            "Block size = 2000000000\n",
            "Opening the input file...  [0.066s]\n",
            "Opening the output file...  [0s]\n",
            "Loading query sequences...  [0.232s]\n",
            "Masking queries...  [1.738s]\n",
            "Building query seed set...  [5.986s]\n",
            "Algorithm: Query-indexed\n",
            "Building query histograms...  [0.176s]\n",
            "Allocating buffers...  [0.001s]\n",
            "Loading reference sequences...  [1.594s]\n",
            "Initializing temporary storage...  [0.001s]\n",
            "Building reference histograms...  [23.411s]\n",
            "Allocating buffers...  [0s]\n",
            "Processing query block 1, reference block 1/1, shape 1/2.\n",
            "Building reference seed array...  [12.91s]\n",
            "Building query seed array...  [0.45s]\n",
            "Computing hash join...  [1.474s]\n",
            "Searching alignments...  [13.299s]\n",
            "Processing query block 1, reference block 1/1, shape 2/2.\n",
            "Building reference seed array...  [12.065s]\n",
            "Building query seed array...  [0.3s]\n",
            "Computing hash join...  [1.397s]\n",
            "Searching alignments...  [13.213s]\n",
            "Deallocating buffers...  [0.033s]\n",
            "Clearing query masking...  [0.005s]\n",
            "Computing alignments...  [372.08s]\n",
            "Deallocating reference...  [0.028s]\n",
            "Loading reference sequences...  [0s]\n",
            "Deallocating buffers...  [0.011s]\n",
            "Deallocating queries...  [0.004s]\n",
            "Loading query sequences...  [0s]\n",
            "Closing the input file...  [0s]\n",
            "Closing the output file...  [0.005s]\n",
            "Cleaning up...  [0s]\n",
            "Total time = 460.749s\n",
            "Reported 82154 pairwise alignments, 82154 HSPs.\n",
            "82154 queries aligned.\n",
            "\n",
            "Diamond alignment completed.\n",
            "\n",
            "Now parsing Diamond alignment results ...\n",
            "Traceback (most recent call last):\n",
            "  File \"../bin/PlasmidFinder.py\", line 28, in <module>\n",
            "    df = gene_content_profile(outdir+'/input.fasta', prodigal, database, cpu=cpu)\n",
            "  File \"<string>\", line 89, in gene_content_profile\n",
            "  File \"<string>\", line 68, in daa_to_hits\n",
            "AttributeError: module 'pandas' has no attribute 'read_csv'\n"
          ]
        }
      ]
    },
    {
      "cell_type": "markdown",
      "source": [
        "# 2. Upload input fasta file\n",
        "Contigs < 5 Kbp will not be included in the prediction."
      ],
      "metadata": {
        "id": "m7X2sfAMUmbY"
      }
    },
    {
      "cell_type": "code",
      "execution_count": null,
      "metadata": {
        "colab": {
          "base_uri": "https://localhost:8080/",
          "height": 73,
          "resources": {
            "http://localhost:8080/nbextensions/google.colab/files.js": {
              "data": "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",
              "headers": [
                [
                  "content-type",
                  "application/javascript"
                ]
              ],
              "ok": true,
              "status": 200,
              "status_text": ""
            }
          }
        },
        "id": "gL4ZmAuN7jlF",
        "outputId": "b9311a75-267a-4f67-fddd-4078cba04b25"
      },
      "outputs": [
        {
          "data": {
            "text/html": [
              "\n",
              "     <input type=\"file\" id=\"files-28a906f0-5a3b-43c2-94a9-cd3fbeb3cabf\" name=\"files[]\" multiple disabled\n",
              "        style=\"border:none\" />\n",
              "     <output id=\"result-28a906f0-5a3b-43c2-94a9-cd3fbeb3cabf\">\n",
              "      Upload widget is only available when the cell has been executed in the\n",
              "      current browser session. Please rerun this cell to enable.\n",
              "      </output>\n",
              "      <script src=\"/nbextensions/google.colab/files.js\"></script> "
            ],
            "text/plain": [
              "<IPython.core.display.HTML object>"
            ]
          },
          "metadata": {},
          "output_type": "display_data"
        },
        {
          "name": "stdout",
          "output_type": "stream",
          "text": [
            "Saving 1.txt to 1.txt\n"
          ]
        }
      ],
      "source": [
        "from google.colab import files\n",
        "upload = files.upload()\n",
        "\n"
      ]
    },
    {
      "cell_type": "code",
      "execution_count": 36,
      "metadata": {
        "colab": {
          "base_uri": "https://localhost:8080/"
        },
        "id": "YLJX13o37qFf",
        "outputId": "86fbaaf6-96c0-491a-d781-f8fab73c040c"
      },
      "outputs": [
        {
          "output_type": "stream",
          "name": "stdout",
          "text": [
            "  File \"/usr/local/bin/diamond\", line 113\n",
            "    print \"Diamond version %s\" % (get_diamond_version())\n",
            "                             ^\n",
            "SyntaxError: invalid syntax\n"
          ]
        }
      ],
      "source": [
        "!diamond help\n"
      ]
    },
    {
      "cell_type": "code",
      "source": [
        "! Prodigal/prodigal -h\n"
      ],
      "metadata": {
        "colab": {
          "base_uri": "https://localhost:8080/"
        },
        "id": "-3iuBpojZe0M",
        "outputId": "64dfd78f-3dc3-48ce-fbde-e7cb467021e8"
      },
      "execution_count": 40,
      "outputs": [
        {
          "output_type": "stream",
          "name": "stdout",
          "text": [
            "\n",
            "Usage:  prodigal [-a trans_file] [-c] [-d nuc_file] [-f output_type]\n",
            "                 [-g tr_table] [-h] [-i input_file] [-m] [-n] [-o output_file]\n",
            "                 [-p mode] [-q] [-s start_file] [-t training_file] [-v]\n",
            "\n",
            "         -a:  Write protein translations to the selected file.\n",
            "         -c:  Closed ends.  Do not allow genes to run off edges.\n",
            "         -d:  Write nucleotide sequences of genes to the selected file.\n",
            "         -f:  Select output format (gbk, gff, or sco).  Default is gbk.\n",
            "         -g:  Specify a translation table to use (default 11).\n",
            "         -h:  Print help menu and exit.\n",
            "         -i:  Specify FASTA/Genbank input file (default reads from stdin).\n",
            "         -m:  Treat runs of N as masked sequence; don't build genes across them.\n",
            "         -n:  Bypass Shine-Dalgarno trainer and force a full motif scan.\n",
            "         -o:  Specify output file (default writes to stdout).\n",
            "         -p:  Select procedure (single or meta).  Default is single.\n",
            "         -q:  Run quietly (suppress normal stderr output).\n",
            "         -s:  Write all potential genes (with scores) to the selected file.\n",
            "         -t:  Write a training file (if none exists); otherwise, read and use\n",
            "              the specified training file.\n",
            "         -v:  Print version number and exit.\n",
            "\n"
          ]
        }
      ]
    }
  ],
  "metadata": {
    "colab": {
      "name": "PlasmidFiner.ipynb",
      "provenance": [],
      "authorship_tag": "ABX9TyP/b7JTQ8o5Xt66TK3w2uyP",
      "include_colab_link": true
    },
    "kernelspec": {
      "display_name": "Python 3",
      "name": "python3"
    },
    "language_info": {
      "name": "python"
    }
  },
  "nbformat": 4,
  "nbformat_minor": 0
}