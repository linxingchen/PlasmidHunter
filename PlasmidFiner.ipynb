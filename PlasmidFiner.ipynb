{
  "cells": [
    {
      "cell_type": "markdown",
      "metadata": {
        "id": "view-in-github",
        "colab_type": "text"
      },
      "source": [
        "<a href=\"https://colab.research.google.com/github/tianrenmaogithub/PlasmidFinder/blob/main/PlasmidFiner.ipynb\" target=\"_parent\"><img src=\"https://colab.research.google.com/assets/colab-badge.svg\" alt=\"Open In Colab\"/></a>"
      ]
    },
    {
      "cell_type": "markdown",
      "metadata": {
        "id": "0P59EkBBTSyb"
      },
      "source": [
        "Welcome to PlasmidFinder!\n",
        "# 1. Installing dependencies\n",
        "Please click the play button on the left to install dependencies."
      ]
    },
    {
      "cell_type": "code",
      "execution_count": null,
      "metadata": {
        "id": "PeLhZuV4USzg"
      },
      "outputs": [],
      "source": [
        "! pip install -q condacolab\n",
        "import condacolab\n",
        "condacolab.install()\n",
        "! conda install pandas\n",
        "! conda install -c anaconda scikit-learn==1.0.2\n",
        "! conda install -c bioconda biopython diamond prodigal\n"
      ]
    },
    {
      "cell_type": "markdown",
      "source": [
        "# 2. Download PlasmidFinder\n",
        "Please click the play button on the left to download PlasmidFinder from GitHub."
      ],
      "metadata": {
        "id": "gE6QY7LsIOUX"
      }
    },
    {
      "cell_type": "code",
      "execution_count": null,
      "metadata": {
        "id": "KCdnfMoWiGQM"
      },
      "outputs": [],
      "source": [
        "! wget https://github.com/tianrenmaogithub/PlasmidFinder/raw/main/PlasmidFinder_1.1.zip\n",
        "! unzip PlasmidFinder_1.1.zip\n"
      ]
    },
    {
      "cell_type": "markdown",
      "metadata": {
        "id": "m7X2sfAMUmbY"
      },
      "source": [
        "# 3. Upload input fasta file and wait a while\n",
        "Please upload your input fasta file. Note that contigs < 5 Kbp will not be included in the prediction.\n",
        "After running, an output file \"prediction.tsv\" will be downloaded.\n",
        "Please cite us if you find it helpful. Thank you!"
      ]
    },
    {
      "cell_type": "code",
      "execution_count": null,
      "metadata": {
        "id": "gL4ZmAuN7jlF"
      },
      "outputs": [],
      "source": [
        "from google.colab import files\n",
        "upload = files.upload()\n",
        "\n",
        "! python PlasmidFinder_1.1/bin/PlasmidFinder.py -i $list(upload.keys())[0] -c 2\n",
        "files.download('plasmid_prediction/predictions.tsv')"
      ]
    }
  ],
  "metadata": {
    "colab": {
      "provenance": [],
      "toc_visible": true,
      "authorship_tag": "ABX9TyP9L8lTI+6dh0u7GVsEdmKH",
      "include_colab_link": true
    },
    "kernelspec": {
      "display_name": "Python 3",
      "name": "python3"
    },
    "language_info": {
      "name": "python"
    }
  },
  "nbformat": 4,
  "nbformat_minor": 0
}